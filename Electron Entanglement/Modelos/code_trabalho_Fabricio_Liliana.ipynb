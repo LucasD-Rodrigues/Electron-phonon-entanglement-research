{
 "cells": [
  {
   "cell_type": "raw",
   "metadata": {},
   "source": [
    "<h1>Controlling Quantum Entanglement with Optical Transition and Crossed Andreev Reflection</h1>\n",
    "<hr>\n",
    "<h3>Sharmila, Liliana, Fabricio</h3>\n",
    "<hr>\n",
    "<br>"
   ]
  },
  {
   "cell_type": "raw",
   "metadata": {},
   "source": [
    "<p id='id1'></p>\n",
    "\n",
    "<button type=\"button\"\n",
    "onclick=\"document.getElementById('id1').innerHTML = 'We investigate the formation of entlangled states in a system composed of two photoexcited quantum dots coupled to a superconductor lead. The interplay between Crossed Andreev reflection and photoexcitation yields to the formation of highly entangled states...(i guess)'\">\n",
    "abstract +</button>\n",
    "\n",
    "<button type=\"button\"\n",
    "onclick=\"document.getElementById('id1').innerHTML = ''\">\n",
    "abstract -</button>\n",
    "\n",
    "<hr>\n",
    "<br>"
   ]
  },
  {
   "cell_type": "raw",
   "metadata": {},
   "source": [
    "<p>We start our coding by importing the main packages necessary in our calculations.\n",
    "Two in particular are quite importante, namely, the numpy and the qutip. "
   ]
  },
  {
   "cell_type": "code",
   "execution_count": 2,
   "metadata": {},
   "outputs": [],
   "source": [
    "import numpy as np\n",
    "from qutip import *\n",
    "import matplotlib.pyplot as plt\n",
    "from matplotlib import rc\n",
    "import pandas as pd"
   ]
  },
  {
   "cell_type": "raw",
   "metadata": {},
   "source": [
    "<p>The QuTip library, see <a href=\"http://qutip.org/\">qutip</a> for more details, contains many classes and methods to used in our object-oritented programming, that helps the description of quantum mechanics. Our system will be described by the following set of parameters,</p>"
   ]
  },
  {
   "cell_type": "code",
   "execution_count": 3,
   "metadata": {},
   "outputs": [],
   "source": [
    "Delta, gamma, J, Jl, DeltaZ1, DeltaZ2 = 0.01, 0.001, 1, 0.5, 0.1, 0.1"
   ]
  },
  {
   "cell_type": "raw",
   "metadata": {},
   "source": [
    "<p>where Delta gives the crossed Andreev reflection term, gamma is a cotunneling parameter, J is the Coulomb repulsion inside each dot, and DeltaZ1, DeltaZ2 are the Zeeman spliting of the dot levels. Until now we do not account for optical transitions. This will be considered in the next section. This set of parameters can be inserted in an energy list as follows</p>"
   ]
  },
  {
   "cell_type": "code",
   "execution_count": 4,
   "metadata": {},
   "outputs": [],
   "source": [
    "e = [Delta, gamma, J, Jl, DeltaZ1, DeltaZ2]"
   ]
  },
  {
   "cell_type": "raw",
   "metadata": {},
   "source": [
    "<p>Before we write the Hamiltonian, we have to define the creation/annihilation operators to this system. We are considering two single level quantum dots (QD), level 1 for QD1 and level 2 for QD2. Each level can have spin up or down. So we end up with an effective four level structure. The creation/annihilation operators will be defined as d1up, d1dw, d2up, d2dw for the annihilation and d1up_d, d1dw_d, d2up_d, d2dw_d for creation operators. As these operators should satisfy the fermionic anticommutation relations, we apply the Jordan Wigner transformation, as recently proposed by Souza e Sanz <a href=\"https://journals.aps.org/pra/abstract/10.1103/PhysRevA.96.052110\">[souza]</a>. So the annihilation operators can be written as</p>"
   ]
  },
  {
   "cell_type": "code",
   "execution_count": 5,
   "metadata": {},
   "outputs": [],
   "source": [
    "d1up = tensor(sigmam(), qeye(2), qeye(2), qeye(2))\n",
    "d1dw = tensor(sigmaz(), sigmam(), qeye(2), qeye(2))\n",
    "d2up = tensor(sigmaz(), sigmaz(), sigmam(), qeye(2))\n",
    "d2dw = tensor(sigmaz(), sigmaz(), sigmaz(), sigmam())"
   ]
  },
  {
   "cell_type": "raw",
   "metadata": {},
   "source": [
    "<p>The creation operators can be obtained directly from</p>"
   ]
  },
  {
   "cell_type": "code",
   "execution_count": 6,
   "metadata": {},
   "outputs": [],
   "source": [
    "d1up_d = d1up.dag()\n",
    "d1dw_d = d1dw.dag()\n",
    "d2up_d = d2up.dag()\n",
    "d2dw_d = d2dw.dag()\n",
    "\n",
    "n1up = d1up_d * d1up\n",
    "n1dw = d1dw_d * d1dw\n",
    "n2up = d2up_d * d2up\n",
    "n2dw = d2dw_d * d2dw"
   ]
  },
  {
   "cell_type": "raw",
   "metadata": {},
   "source": [
    "<p>At this point it is important to check all the possibles anticommutation relations, \n",
    "in order to find any problem in our definitions of the annihilation operators. "
   ]
  },
  {
   "cell_type": "code",
   "execution_count": 7,
   "metadata": {},
   "outputs": [],
   "source": [
    "commut1 = commutator(d1up, d1up_d, kind='anti')\n",
    "commut2 = commutator(d2up, d2up_d, kind='anti')\n",
    "commut3 = commutator(d1dw, d1dw_d, kind='anti')\n",
    "commut4 = commutator(d2dw, d2dw_d, kind='anti')\n",
    "\n",
    "commut5 = commutator(d1up, d1up, kind='anti')\n",
    "commut6 = commutator(d2up, d2up, kind='anti')\n",
    "commut7 = commutator(d1dw, d1dw, kind='anti')\n",
    "commut8 = commutator(d2dw, d2dw, kind='anti')\n",
    "\n",
    "commut9 = commutator(d1up, d1dw, kind='anti')\n",
    "commut10 = commutator(d2up, d2dw, kind='anti')\n",
    "commut11 = commutator(d1up, d2up_d, kind='anti')\n",
    "commut12 = commutator(d1up, d2dw_d, kind='anti')"
   ]
  },
  {
   "cell_type": "raw",
   "metadata": {},
   "source": [
    "<p>for instance, printing the first one we obtain the identity matrix, as expected,"
   ]
  },
  {
   "cell_type": "code",
   "execution_count": 8,
   "metadata": {},
   "outputs": [
    {
     "name": "stdout",
     "output_type": "stream",
     "text": [
      "Quantum object: dims = [[2, 2, 2, 2], [2, 2, 2, 2]], shape = (16, 16), type = oper, isherm = True\n",
      "Qobj data =\n",
      "[[1. 0. 0. 0. 0. 0. 0. 0. 0. 0. 0. 0. 0. 0. 0. 0.]\n",
      " [0. 1. 0. 0. 0. 0. 0. 0. 0. 0. 0. 0. 0. 0. 0. 0.]\n",
      " [0. 0. 1. 0. 0. 0. 0. 0. 0. 0. 0. 0. 0. 0. 0. 0.]\n",
      " [0. 0. 0. 1. 0. 0. 0. 0. 0. 0. 0. 0. 0. 0. 0. 0.]\n",
      " [0. 0. 0. 0. 1. 0. 0. 0. 0. 0. 0. 0. 0. 0. 0. 0.]\n",
      " [0. 0. 0. 0. 0. 1. 0. 0. 0. 0. 0. 0. 0. 0. 0. 0.]\n",
      " [0. 0. 0. 0. 0. 0. 1. 0. 0. 0. 0. 0. 0. 0. 0. 0.]\n",
      " [0. 0. 0. 0. 0. 0. 0. 1. 0. 0. 0. 0. 0. 0. 0. 0.]\n",
      " [0. 0. 0. 0. 0. 0. 0. 0. 1. 0. 0. 0. 0. 0. 0. 0.]\n",
      " [0. 0. 0. 0. 0. 0. 0. 0. 0. 1. 0. 0. 0. 0. 0. 0.]\n",
      " [0. 0. 0. 0. 0. 0. 0. 0. 0. 0. 1. 0. 0. 0. 0. 0.]\n",
      " [0. 0. 0. 0. 0. 0. 0. 0. 0. 0. 0. 1. 0. 0. 0. 0.]\n",
      " [0. 0. 0. 0. 0. 0. 0. 0. 0. 0. 0. 0. 1. 0. 0. 0.]\n",
      " [0. 0. 0. 0. 0. 0. 0. 0. 0. 0. 0. 0. 0. 1. 0. 0.]\n",
      " [0. 0. 0. 0. 0. 0. 0. 0. 0. 0. 0. 0. 0. 0. 1. 0.]\n",
      " [0. 0. 0. 0. 0. 0. 0. 0. 0. 0. 0. 0. 0. 0. 0. 1.]]\n"
     ]
    }
   ],
   "source": [
    "print(commut1)"
   ]
  },
  {
   "cell_type": "raw",
   "metadata": {},
   "source": [
    "<p>Now we define a function that constructs our Hamiltonian model:</p>"
   ]
  },
  {
   "cell_type": "code",
   "execution_count": 9,
   "metadata": {},
   "outputs": [],
   "source": [
    "def H(e):\n",
    "    Delta, gamma, J, Jl, DeltaZ1, DeltaZ2 = e[0], e[1], e[2], e[3], e[4], e[5]\n",
    "    Hs = Delta * (d1up_d * d2dw_d - d1dw_d * d2up_d)\n",
    "    Hct = gamma * (d1up_d * d2up + d1dw_d * d2dw)\n",
    "    Hc = J * (d1up_d * d1up * d1dw_d * d1dw + d2up_d * d2up * d2dw_d * d2dw)\n",
    "    Hc_2 = Jl * (n1up * n2up + n1up * n2dw + n1dw * n2up + n1dw * n2dw)\n",
    "    Hz = (DeltaZ1 / 2) * (d1up_d * d1up - d1dw_d * d1dw) + (DeltaZ2 / 2) * (d2up_d * d2up - d2dw_d * d2dw)\n",
    "    HT = Hs + Hs.dag() + Hct + Hct.dag() + Hc + Hc_2 + Hz \n",
    "    return HT"
   ]
  },
  {
   "cell_type": "raw",
   "metadata": {},
   "source": [
    "<p>before we move on, we can have a look at the number operators n1up, n1dw, n2up, n2dw. So defining</p>"
   ]
  },
  {
   "cell_type": "code",
   "execution_count": 10,
   "metadata": {},
   "outputs": [],
   "source": [
    "n1up = d1up_d * d1up\n",
    "n1dw = d1dw_d * d1dw\n",
    "n2up = d2up_d * d2up\n",
    "n2dw = d2dw_d * d2dw"
   ]
  },
  {
   "cell_type": "raw",
   "metadata": {},
   "source": [
    "we can plot the matrices,"
   ]
  },
  {
   "cell_type": "code",
   "execution_count": 11,
   "metadata": {},
   "outputs": [
    {
     "name": "stdout",
     "output_type": "stream",
     "text": [
      "========================================\n",
      "n1up\n",
      "Quantum object: dims = [[2, 2, 2, 2], [2, 2, 2, 2]], shape = (16, 16), type = oper, isherm = True\n",
      "Qobj data =\n",
      "[[1. 0. 0. 0. 0. 0. 0. 0. 0. 0. 0. 0. 0. 0. 0. 0.]\n",
      " [0. 1. 0. 0. 0. 0. 0. 0. 0. 0. 0. 0. 0. 0. 0. 0.]\n",
      " [0. 0. 1. 0. 0. 0. 0. 0. 0. 0. 0. 0. 0. 0. 0. 0.]\n",
      " [0. 0. 0. 1. 0. 0. 0. 0. 0. 0. 0. 0. 0. 0. 0. 0.]\n",
      " [0. 0. 0. 0. 1. 0. 0. 0. 0. 0. 0. 0. 0. 0. 0. 0.]\n",
      " [0. 0. 0. 0. 0. 1. 0. 0. 0. 0. 0. 0. 0. 0. 0. 0.]\n",
      " [0. 0. 0. 0. 0. 0. 1. 0. 0. 0. 0. 0. 0. 0. 0. 0.]\n",
      " [0. 0. 0. 0. 0. 0. 0. 1. 0. 0. 0. 0. 0. 0. 0. 0.]\n",
      " [0. 0. 0. 0. 0. 0. 0. 0. 0. 0. 0. 0. 0. 0. 0. 0.]\n",
      " [0. 0. 0. 0. 0. 0. 0. 0. 0. 0. 0. 0. 0. 0. 0. 0.]\n",
      " [0. 0. 0. 0. 0. 0. 0. 0. 0. 0. 0. 0. 0. 0. 0. 0.]\n",
      " [0. 0. 0. 0. 0. 0. 0. 0. 0. 0. 0. 0. 0. 0. 0. 0.]\n",
      " [0. 0. 0. 0. 0. 0. 0. 0. 0. 0. 0. 0. 0. 0. 0. 0.]\n",
      " [0. 0. 0. 0. 0. 0. 0. 0. 0. 0. 0. 0. 0. 0. 0. 0.]\n",
      " [0. 0. 0. 0. 0. 0. 0. 0. 0. 0. 0. 0. 0. 0. 0. 0.]\n",
      " [0. 0. 0. 0. 0. 0. 0. 0. 0. 0. 0. 0. 0. 0. 0. 0.]]\n",
      "========================================\n",
      "n1dw\n",
      "Quantum object: dims = [[2, 2, 2, 2], [2, 2, 2, 2]], shape = (16, 16), type = oper, isherm = True\n",
      "Qobj data =\n",
      "[[1. 0. 0. 0. 0. 0. 0. 0. 0. 0. 0. 0. 0. 0. 0. 0.]\n",
      " [0. 1. 0. 0. 0. 0. 0. 0. 0. 0. 0. 0. 0. 0. 0. 0.]\n",
      " [0. 0. 1. 0. 0. 0. 0. 0. 0. 0. 0. 0. 0. 0. 0. 0.]\n",
      " [0. 0. 0. 1. 0. 0. 0. 0. 0. 0. 0. 0. 0. 0. 0. 0.]\n",
      " [0. 0. 0. 0. 0. 0. 0. 0. 0. 0. 0. 0. 0. 0. 0. 0.]\n",
      " [0. 0. 0. 0. 0. 0. 0. 0. 0. 0. 0. 0. 0. 0. 0. 0.]\n",
      " [0. 0. 0. 0. 0. 0. 0. 0. 0. 0. 0. 0. 0. 0. 0. 0.]\n",
      " [0. 0. 0. 0. 0. 0. 0. 0. 0. 0. 0. 0. 0. 0. 0. 0.]\n",
      " [0. 0. 0. 0. 0. 0. 0. 0. 1. 0. 0. 0. 0. 0. 0. 0.]\n",
      " [0. 0. 0. 0. 0. 0. 0. 0. 0. 1. 0. 0. 0. 0. 0. 0.]\n",
      " [0. 0. 0. 0. 0. 0. 0. 0. 0. 0. 1. 0. 0. 0. 0. 0.]\n",
      " [0. 0. 0. 0. 0. 0. 0. 0. 0. 0. 0. 1. 0. 0. 0. 0.]\n",
      " [0. 0. 0. 0. 0. 0. 0. 0. 0. 0. 0. 0. 0. 0. 0. 0.]\n",
      " [0. 0. 0. 0. 0. 0. 0. 0. 0. 0. 0. 0. 0. 0. 0. 0.]\n",
      " [0. 0. 0. 0. 0. 0. 0. 0. 0. 0. 0. 0. 0. 0. 0. 0.]\n",
      " [0. 0. 0. 0. 0. 0. 0. 0. 0. 0. 0. 0. 0. 0. 0. 0.]]\n",
      "========================================\n",
      "n2up\n",
      "Quantum object: dims = [[2, 2, 2, 2], [2, 2, 2, 2]], shape = (16, 16), type = oper, isherm = True\n",
      "Qobj data =\n",
      "[[1. 0. 0. 0. 0. 0. 0. 0. 0. 0. 0. 0. 0. 0. 0. 0.]\n",
      " [0. 1. 0. 0. 0. 0. 0. 0. 0. 0. 0. 0. 0. 0. 0. 0.]\n",
      " [0. 0. 0. 0. 0. 0. 0. 0. 0. 0. 0. 0. 0. 0. 0. 0.]\n",
      " [0. 0. 0. 0. 0. 0. 0. 0. 0. 0. 0. 0. 0. 0. 0. 0.]\n",
      " [0. 0. 0. 0. 1. 0. 0. 0. 0. 0. 0. 0. 0. 0. 0. 0.]\n",
      " [0. 0. 0. 0. 0. 1. 0. 0. 0. 0. 0. 0. 0. 0. 0. 0.]\n",
      " [0. 0. 0. 0. 0. 0. 0. 0. 0. 0. 0. 0. 0. 0. 0. 0.]\n",
      " [0. 0. 0. 0. 0. 0. 0. 0. 0. 0. 0. 0. 0. 0. 0. 0.]\n",
      " [0. 0. 0. 0. 0. 0. 0. 0. 1. 0. 0. 0. 0. 0. 0. 0.]\n",
      " [0. 0. 0. 0. 0. 0. 0. 0. 0. 1. 0. 0. 0. 0. 0. 0.]\n",
      " [0. 0. 0. 0. 0. 0. 0. 0. 0. 0. 0. 0. 0. 0. 0. 0.]\n",
      " [0. 0. 0. 0. 0. 0. 0. 0. 0. 0. 0. 0. 0. 0. 0. 0.]\n",
      " [0. 0. 0. 0. 0. 0. 0. 0. 0. 0. 0. 0. 1. 0. 0. 0.]\n",
      " [0. 0. 0. 0. 0. 0. 0. 0. 0. 0. 0. 0. 0. 1. 0. 0.]\n",
      " [0. 0. 0. 0. 0. 0. 0. 0. 0. 0. 0. 0. 0. 0. 0. 0.]\n",
      " [0. 0. 0. 0. 0. 0. 0. 0. 0. 0. 0. 0. 0. 0. 0. 0.]]\n",
      "========================================\n",
      "n2dw\n",
      "Quantum object: dims = [[2, 2, 2, 2], [2, 2, 2, 2]], shape = (16, 16), type = oper, isherm = True\n",
      "Qobj data =\n",
      "[[1. 0. 0. 0. 0. 0. 0. 0. 0. 0. 0. 0. 0. 0. 0. 0.]\n",
      " [0. 0. 0. 0. 0. 0. 0. 0. 0. 0. 0. 0. 0. 0. 0. 0.]\n",
      " [0. 0. 1. 0. 0. 0. 0. 0. 0. 0. 0. 0. 0. 0. 0. 0.]\n",
      " [0. 0. 0. 0. 0. 0. 0. 0. 0. 0. 0. 0. 0. 0. 0. 0.]\n",
      " [0. 0. 0. 0. 1. 0. 0. 0. 0. 0. 0. 0. 0. 0. 0. 0.]\n",
      " [0. 0. 0. 0. 0. 0. 0. 0. 0. 0. 0. 0. 0. 0. 0. 0.]\n",
      " [0. 0. 0. 0. 0. 0. 1. 0. 0. 0. 0. 0. 0. 0. 0. 0.]\n",
      " [0. 0. 0. 0. 0. 0. 0. 0. 0. 0. 0. 0. 0. 0. 0. 0.]\n",
      " [0. 0. 0. 0. 0. 0. 0. 0. 1. 0. 0. 0. 0. 0. 0. 0.]\n",
      " [0. 0. 0. 0. 0. 0. 0. 0. 0. 0. 0. 0. 0. 0. 0. 0.]\n",
      " [0. 0. 0. 0. 0. 0. 0. 0. 0. 0. 1. 0. 0. 0. 0. 0.]\n",
      " [0. 0. 0. 0. 0. 0. 0. 0. 0. 0. 0. 0. 0. 0. 0. 0.]\n",
      " [0. 0. 0. 0. 0. 0. 0. 0. 0. 0. 0. 0. 1. 0. 0. 0.]\n",
      " [0. 0. 0. 0. 0. 0. 0. 0. 0. 0. 0. 0. 0. 0. 0. 0.]\n",
      " [0. 0. 0. 0. 0. 0. 0. 0. 0. 0. 0. 0. 0. 0. 1. 0.]\n",
      " [0. 0. 0. 0. 0. 0. 0. 0. 0. 0. 0. 0. 0. 0. 0. 0.]]\n"
     ]
    }
   ],
   "source": [
    "print('========================================')\n",
    "print('n1up')\n",
    "print(n1up)\n",
    "print('========================================')\n",
    "print('n1dw')\n",
    "print(n1dw)\n",
    "print('========================================')\n",
    "print('n2up')\n",
    "print(n2up)\n",
    "print('========================================')\n",
    "print('n2dw')\n",
    "print(n2dw)"
   ]
  },
  {
   "cell_type": "raw",
   "metadata": {},
   "source": [
    "<p>These operators make it clear the sequence of our computational basis, i.e.,</p>"
   ]
  },
  {
   "cell_type": "raw",
   "metadata": {},
   "source": [
    "<br>"
   ]
  },
  {
   "cell_type": "raw",
   "metadata": {},
   "source": [
    "<p>|0000> |0001> |0010> |0011></p>\n",
    "<p>|0100> |0101> |0110> |0111></p>\n",
    "<p>|1000> |1001> |1010> |1011></p>\n",
    "<p>|1100> |1101> |1110> |1111></p>"
   ]
  },
  {
   "cell_type": "raw",
   "metadata": {},
   "source": [
    "<p>For instance, n1up has 1 in the first 8 diagonal elements. Looking at the above basis sequence we find the state |0> in the first 8 states of that sequence, corresponding to the first index in the four-index state. Analogously, the operator n1dw has 1 in the first four diagonal elementes, then it becomes 0 in the next four, then it returns to 1 in the next four. In the basis sequence above we have state |0>, corresponding to the second index, appearing in the first 4 states, then we get |1> in the next four, then it returns to |0>. Similar analysis holds to the other number operators. We should drawn attention to the fact that state |0> means one particle, while state |1> means zero particle in the present notation.</p>"
   ]
  },
  {
   "cell_type": "raw",
   "metadata": {},
   "source": [
    "<p>This will be useful to construct all the basis vector. Let's do that in the following way</p>"
   ]
  },
  {
   "cell_type": "code",
   "execution_count": 12,
   "metadata": {},
   "outputs": [],
   "source": [
    "basis_list = []\n",
    "basis_list_string = []\n",
    "for i in range(2):\n",
    "    for j in range(2):\n",
    "        for l in range(2):\n",
    "            for m in range(2):\n",
    "                basis_list.append(tensor(basis(2,i), basis(2,j), basis(2,l), basis(2,m)))\n",
    "                basis_list_string.append('|'+str(i)+str(j)+str(l)+str(m)+'>')"
   ]
  },
  {
   "cell_type": "raw",
   "metadata": {},
   "source": [
    "<p>Above we generate a list of strings with the basis states symbols, to be used later on the plots, it looks like:</p>"
   ]
  },
  {
   "cell_type": "code",
   "execution_count": 13,
   "metadata": {},
   "outputs": [
    {
     "name": "stdout",
     "output_type": "stream",
     "text": [
      "['|0000>', '|0001>', '|0010>', '|0011>', '|0100>', '|0101>', '|0110>', '|0111>', '|1000>', '|1001>', '|1010>', '|1011>', '|1100>', '|1101>', '|1110>', '|1111>']\n"
     ]
    }
   ],
   "source": [
    "print(basis_list_string)"
   ]
  },
  {
   "cell_type": "raw",
   "metadata": {},
   "source": [
    "<p>With the above loop we were able to automatically construct the entire basis. Let's have a look on that</p>"
   ]
  },
  {
   "cell_type": "code",
   "execution_count": 86,
   "metadata": {},
   "outputs": [],
   "source": [
    "#print(basis_list)\n",
    "#Defining the (possible) eigenstates in draft\n",
    "psi01plu=(basis_list[11]+basis_list[14])/(np.sqrt(2))\n",
    "psi01min=(basis_list[11]-basis_list[14])/(np.sqrt(2))\n",
    "psi2=basis_list[15]\n",
    "psi34plu=(basis_list[7]+basis_list[13])/(np.sqrt(2))\n",
    "psi34min=(basis_list[7]-basis_list[13])/(np.sqrt(2))\n",
    "psi5=basis_list[10]\n",
    "psi67plu=(basis_list[6]+basis_list[9])/(np.sqrt(2))\n",
    "psi67min=(basis_list[6]-basis_list[9])/(np.sqrt(2))\n",
    "psi8=basis_list[5]\n",
    "psi910plu=(basis_list[3]+basis_list[12])/(np.sqrt(2))\n",
    "psi910min=(basis_list[3]-basis_list[12])/(np.sqrt(2))\n",
    "psi1112plu=(basis_list[2]+basis_list[8])/(np.sqrt(2))\n",
    "psi1112min=(basis_list[2]-basis_list[8])/(np.sqrt(2))\n",
    "psi1314plu=(basis_list[1]+basis_list[4])/(np.sqrt(2))\n",
    "psi1314min=(basis_list[1]-basis_list[4])/(np.sqrt(2))\n",
    "psi15=basis_list[0]\n",
    "#print(psi15.dag())"
   ]
  },
  {
   "cell_type": "code",
   "execution_count": 85,
   "metadata": {},
   "outputs": [
    {
     "name": "stdout",
     "output_type": "stream",
     "text": [
      "CovN1upN2dw: 0j\n",
      "CovN1dwN2up:  0j\n",
      "CovN1dwN2dw:  0j\n",
      "CovN1upN2up:  0j\n"
     ]
    }
   ],
   "source": [
    "#CHECKING covariances\n",
    "#calculating mean value N1_sigma.N2_sigma'\n",
    "#State of interest from the definitions above\n",
    "psigeneric=psi15\n",
    "#General calculations\n",
    "N1dw=psigeneric.dag()*n1dw*psigeneric\n",
    "N1up=psigeneric.dag()*n1up*psigeneric\n",
    "N2dw=psigeneric.dag()*n2dw*psigeneric\n",
    "N2up=psigeneric.dag()*n2up*psigeneric\n",
    "#Cov[N1up.N2dw]\n",
    "N1upN2dw=psigeneric.dag()*n1up*n2dw*psigeneric\n",
    "CovN1upN2dw=N1upN2dw-(N1up*N2dw)\n",
    "print('CovN1upN2dw:',CovN1upN2dw[0][0][0])\n",
    "#Cov[N1dw.N2up]\n",
    "N1dwN2up=psigeneric.dag()*n1dw*n2up*psigeneric\n",
    "CovN1dwN2up=N1dwN2up-(N1dw*N2up)\n",
    "print('CovN1dwN2up: ',CovN1dwN2up[0][0][0])\n",
    "#Cov[N1dw.N2dw]\n",
    "N1dwN2dw=psigeneric.dag()*n1dw*n2dw*psigeneric\n",
    "CovN1dwN2dw=N1dwN2dw-(N1dw*N2dw)\n",
    "print('CovN1dwN2dw: ',CovN1dwN2dw[0][0][0])\n",
    "#Cov[N1up.N2up]\n",
    "N1upN2up=psigeneric.dag()*n1up*n2up*psigeneric\n",
    "CovN1upN2up=N1upN2up-(N1up*N2up)\n",
    "print('CovN1upN2up: ',CovN1upN2up[0][0][0])"
   ]
  },
  {
   "cell_type": "raw",
   "metadata": {},
   "source": [
    "<p>So if we need to project some state Psi on the first basis state, for instance, it is just a matter to perform the operation basis_list[0].dag() * Psi. That's cool, isnt it?</p>"
   ]
  },
  {
   "cell_type": "raw",
   "metadata": {},
   "source": [
    "<p>At this point it is instructive to find the eigenvalues of the present system. We start by changing the superconductor parameter Delta</p>"
   ]
  },
  {
   "cell_type": "code",
   "execution_count": 14,
   "metadata": {},
   "outputs": [],
   "source": [
    "Delta_list = np.linspace(0, 0.5, 20)\n",
    "eigenvalues = []\n",
    "for x in Delta_list:\n",
    "    e_list = [x, 0.005, 4, 1, 0.5, 0.5]\n",
    "    eigenvalues.append(H(e_list).eigenenergies())"
   ]
  },
  {
   "cell_type": "code",
   "execution_count": 15,
   "metadata": {},
   "outputs": [
    {
     "data": {
      "image/png": "[encoded data removed]",
      "text/plain": [
       "<Figure size 432x288 with 1 Axes>"
      ]
     },
     "metadata": {
      "needs_background": "light"
     },
     "output_type": "display_data"
    }
   ],
   "source": [
    "fig, plot_eigenvalues = plt.subplots()\n",
    "plot_eigenvalues.plot(Delta_list, eigenvalues)\n",
    "#plt.ylim(-0.2,0.2)\n",
    "plt.xlabel('Delta')\n",
    "plt.show()"
   ]
  },
  {
   "cell_type": "code",
   "execution_count": 16,
   "metadata": {},
   "outputs": [],
   "source": [
    "e_list2 = [0.05, 0.005, 4, 1, 0.5, 0.5]#Delta, gamma, J, Jl, DeltaZ1, DeltaZ2\n",
    "eigens = H(e_list2).eigenstates()\n",
    "eigenvecs_list = []\n",
    "for i in range(16):\n",
    "    eigenvecs_list.append(eigens[1][i])"
   ]
  },
  {
   "cell_type": "code",
   "execution_count": 17,
   "metadata": {},
   "outputs": [
    {
     "name": "stdout",
     "output_type": "stream",
     "text": [
      "[-2.55415945e-01 -2.45417333e-01 -4.97742261e-03  2.44584055e-01\n",
      "  2.54582667e-01  5.00000000e-01  1.00000000e+00  1.00448954e+00\n",
      "  1.50000000e+00  4.00000000e+00  4.00003334e+00  5.74541733e+00\n",
      "  5.75541594e+00  6.24541733e+00  6.25541594e+00  1.20004545e+01]\n"
     ]
    }
   ],
   "source": [
    "print(eigens[0])"
   ]
  },
  {
   "cell_type": "code",
   "execution_count": 18,
   "metadata": {},
   "outputs": [],
   "source": [
    "eigenvecs_list = []\n",
    "for i in range(16):\n",
    "    eigenvecs_list.append(eigens[1][i])"
   ]
  },
  {
   "cell_type": "raw",
   "metadata": {},
   "source": [
    "<p>In order to generate a database with all the projections for each eigenvector, we construct a Python \n",
    "<a href=\"https://www.w3schools.com/python/python_dictionaries_nested.asp\">nested</a> dictionary as follows</p>"
   ]
  },
  {
   "cell_type": "code",
   "execution_count": 19,
   "metadata": {},
   "outputs": [],
   "source": [
    "proj = {}\n",
    "coef = {}\n",
    "for i in range(16):\n",
    "    proj.update({i: {}})\n",
    "    coef.update({i: {}})"
   ]
  },
  {
   "cell_type": "raw",
   "metadata": {},
   "source": [
    "<p>that looks like</p>"
   ]
  },
  {
   "cell_type": "code",
   "execution_count": 20,
   "metadata": {},
   "outputs": [
    {
     "name": "stdout",
     "output_type": "stream",
     "text": [
      "{0: {}, 1: {}, 2: {}, 3: {}, 4: {}, 5: {}, 6: {}, 7: {}, 8: {}, 9: {}, 10: {}, 11: {}, 12: {}, 13: {}, 14: {}, 15: {}}\n",
      "{0: {}, 1: {}, 2: {}, 3: {}, 4: {}, 5: {}, 6: {}, 7: {}, 8: {}, 9: {}, 10: {}, 11: {}, 12: {}, 13: {}, 14: {}, 15: {}}\n"
     ]
    }
   ],
   "source": [
    "print(proj) #probabilities for each eigenstate\n",
    "print(coef) #coefficients of the eigenstates"
   ]
  },
  {
   "cell_type": "raw",
   "metadata": {},
   "source": [
    "<p>The keys 0, 1, 2, ... 15, correspond to the sixteen eigenvectors. For each key a new dictionary is created that will contain the projections for each one of the sixteen basis vectors.</p>"
   ]
  },
  {
   "cell_type": "code",
   "execution_count": 21,
   "metadata": {},
   "outputs": [],
   "source": [
    "for i in range(16):\n",
    "    for j in range(16):\n",
    "        c = (basis_list[j].dag() * eigenvecs_list[i])[0][0][0] #coefficientes of the eigenvectors\n",
    "        p = abs(basis_list[j].overlap(eigenvecs_list[i]))**2 #probabilities amplitudes\n",
    "        proj.get(i).update({j: p})\n",
    "        coef.get(i).update({j: c})"
   ]
  },
  {
   "cell_type": "raw",
   "metadata": {},
   "source": [
    "<p>It is important to look at the coefficients of each eigenstate with respect to the computational basis. Below we use <a href=\"https://pandas.pydata.org/\">Pandas</a>, a powerful data analysis tool, to visualize these coefficientes.</p>"
   ]
  },
  {
   "cell_type": "code",
   "execution_count": 22,
   "metadata": {},
   "outputs": [],
   "source": [
    "import pandas as pd\n",
    "coefficients_dictionary = {}\n",
    "for i in range(16):\n",
    "    coefficients_dictionary.update({'eigen_'+str(i): pd.Series(list(coef.get(i).values()))})\n",
    "coefficients_table = pd.DataFrame(coefficients_dictionary)"
   ]
  },
  {
   "cell_type": "raw",
   "metadata": {},
   "source": [
    "<p>for a fast check, we can print a single column of coefficients for eigenvector n</p>"
   ]
  },
  {
   "cell_type": "code",
   "execution_count": 23,
   "metadata": {},
   "outputs": [
    {
     "name": "stdout",
     "output_type": "stream",
     "text": [
      "eigenvector coefficients:\n",
      "0     0.000414+0.000000j\n",
      "1     0.000000+0.000000j\n",
      "2     0.000000+0.000000j\n",
      "3     0.000124+0.000000j\n",
      "4     0.000000+0.000000j\n",
      "5     0.000000+0.000000j\n",
      "6    -0.049651+0.000000j\n",
      "7     0.000000+0.000000j\n",
      "8     0.000000+0.000000j\n",
      "9     0.049651+0.000000j\n",
      "10    0.000000+0.000000j\n",
      "11    0.000000+0.000000j\n",
      "12    0.000124+0.000000j\n",
      "13    0.000000+0.000000j\n",
      "14    0.000000+0.000000j\n",
      "15   -0.997532+0.000000j\n",
      "Name: eigen_2, dtype: complex128\n"
     ]
    }
   ],
   "source": [
    "print('eigenvector coefficients:')\n",
    "print(coefficients_table.eigen_2) #for instance n = 2"
   ]
  },
  {
   "cell_type": "raw",
   "metadata": {},
   "source": [
    "<p>or we can save the complete table to a file and open it using excel.</p>"
   ]
  },
  {
   "cell_type": "code",
   "execution_count": 24,
   "metadata": {},
   "outputs": [],
   "source": [
    "coefficients_table.to_csv('coefficients.csv', index=False)#index=False => exports without the first index column"
   ]
  },
  {
   "cell_type": "raw",
   "metadata": {},
   "source": [
    "<p>With the nested dictionary called proj, we can also make plots using <a href=\"https://matplotlib.org/\">matplotlib</a>. This peace of code below should be improved as we are violating the computational <a href=\"https://en.wikipedia.org/wiki/Don%27t_repeat_yourself\">DRY</a> principle.</p>"
   ]
  },
  {
   "cell_type": "raw",
   "metadata": {},
   "source": [
    "<p>Now we calculate the von Neumann entropies SA and SB for each eigenstate:</p>"
   ]
  },
  {
   "cell_type": "code",
   "execution_count": 25,
   "metadata": {},
   "outputs": [],
   "source": [
    "SA = []\n",
    "SB = []\n",
    "for i in range(16):\n",
    "    rho = ket2dm(eigenvecs_list[i])\n",
    "    rhoA = rho.ptrace([0,1])\n",
    "    rhoB = rho.ptrace([2,3])\n",
    "    SA.append(entropy_vn(rhoA, base=2, sparse=False))\n",
    "    SB.append(entropy_vn(rhoB, base=2, sparse=False))"
   ]
  },
  {
   "cell_type": "code",
   "execution_count": 26,
   "metadata": {},
   "outputs": [],
   "source": [
    "class ClassKetCreator:\n",
    "    \n",
    "    def __init__(self):\n",
    "        pass\n",
    "\n",
    "    def MethodKet(self, basis_string, basis_index, coefficients):\n",
    "        kets = []\n",
    "        list1 = list(basis_string)\n",
    "        list2 = list(basis_index)\n",
    "        list3 = list(coefficients)\n",
    "        length = len(list1)\n",
    "        for i in range(length):\n",
    "            if abs(list3[i]) > 0.1:\n",
    "                kets.append(list1[i])\n",
    "        return kets"
   ]
  },
  {
   "cell_type": "code",
   "execution_count": 27,
   "metadata": {},
   "outputs": [
    {
     "data": {
      "image/png": "[encoded data removed]",
      "text/plain": [
       "<Figure size 1332x756 with 16 Axes>"
      ]
     },
     "metadata": {
      "needs_background": "light"
     },
     "output_type": "display_data"
    }
   ],
   "source": [
    "wid = 1\n",
    "xax = range(16)\n",
    "fig, ax = plt.subplots(4, 4)\n",
    "for i in range(16):\n",
    "    i1 = i // 4\n",
    "    i2 = i % 4\n",
    "    ax[i1,i2].bar(proj.get(i).keys(), proj.get(i).values(), wid, color='g')\n",
    "    ax[i1,i2].set_xlim(0, 15)\n",
    "    ax[i1,i2].grid(True)\n",
    "    ax[i1,i2].set_xticks(xax)\n",
    "    ax[i1,i2].set_ylim([0,1])\n",
    "    ax[i1,i2].text(5, 0.8, 'E='+str(round(eigens[0][i],3)), size='16')\n",
    "    ax[i1,i2].text(1, 0.6, 'SA='+str(round(SA[i],1)), size='16')\n",
    "    ax[i1,i2].text(1, 0.8, 'SB='+str(round(SB[i],1)), size='16')\n",
    "    ket = ClassKetCreator().MethodKet(basis_list_string, proj.get(i).keys(), coef.get(i).values())\n",
    "    y_position = 0.5\n",
    "    for l in range(len(ket)):\n",
    "        y_position += 0.1\n",
    "        ax[i1,i2].text(11, y_position, ket[l], size='16')\n",
    "fig.set_size_inches(18.5, 10.5, forward=True)\n",
    "fig.tight_layout(pad=0.2)\n",
    "plt.show()"
   ]
  },
  {
   "cell_type": "raw",
   "metadata": {},
   "source": [
    "<p>In figure above we show the probabilities for each eigenstate to be found in one of the computational basis state. As expected all the states are normalized. Now we need to play with parameters and analyse the results.</p>"
   ]
  },
  {
   "cell_type": "raw",
   "metadata": {},
   "source": [
    "<p>Let's have a look at the dynamics. We can initialize the system in the state |1001>, which has energy one</p>"
   ]
  },
  {
   "cell_type": "code",
   "execution_count": 28,
   "metadata": {},
   "outputs": [],
   "source": [
    "Psi0 = basis_list[9] # = |1001>"
   ]
  },
  {
   "cell_type": "code",
   "execution_count": 29,
   "metadata": {},
   "outputs": [],
   "source": [
    "Tmax = 2000\n",
    "Nt = 8000\n",
    "deltat = Tmax / Nt\n",
    "opts = Options(store_states = True)\n",
    "times = np.linspace(0, Tmax, Nt)\n",
    "p_1001 = basis_list[9] * basis_list[9].dag()\n",
    "p_0110 = basis_list[6] * basis_list[6].dag()\n",
    "p_0000 = basis_list[15] * basis_list[15].dag()\n",
    "Gamma = 0.001\n",
    "Czp = np.sqrt(Gamma)*d1up\n",
    "dynamics = mesolve(H(e_list2), Psi0, times, [Czp], [p_1001, p_0110, p_0000, n1up, n1dw, n2up, n2dw, n1up * n2dw, n1up * n1dw], options=opts)\n",
    "rho = dynamics.states"
   ]
  },
  {
   "cell_type": "code",
   "execution_count": 9,
   "metadata": {},
   "outputs": [
    {
     "name": "stdout",
     "output_type": "stream",
     "text": [
      "4\n"
     ]
    }
   ],
   "source": [
    "print(2**2)"
   ]
  },
  {
   "cell_type": "code",
   "execution_count": 19,
   "metadata": {},
   "outputs": [
    {
     "data": {
      "text/plain": [
       "[<matplotlib.lines.Line2D at 0x23390a7f850>]"
      ]
     },
     "execution_count": 19,
     "metadata": {},
     "output_type": "execute_result"
    },
    {
     "data": {
      "image/png": "[encoded data removed]",
      "text/plain": [
       "<Figure size 432x288 with 1 Axes>"
      ]
     },
     "metadata": {
      "needs_background": "light"
     },
     "output_type": "display_data"
    }
   ],
   "source": [
    "import numpy as np\n",
    "import matplotlib.pyplot as plt\n",
    "jl,j,Deltan,gamma=1,4,0.05,0.005\n",
    "omega=Deltan**2*((1/jl)-(1/(jl-2*j-4*jl)))-(2*gamma**2/(jl-j))\n",
    "theta= np.linspace(0,2*np.pi,100)\n",
    "f1=(np.sin(omega*jl*theta/(Deltan*Deltan)))**2\n",
    "f2=(np.sin(theta))**2\n",
    "#print(f1)\n",
    "plt.plot(theta,f1)\n",
    "plt.plot(theta,f2)"
   ]
  },
  {
   "cell_type": "code",
   "execution_count": 30,
   "metadata": {},
   "outputs": [
    {
     "data": {
      "text/plain": [
       "<matplotlib.legend.Legend at 0x2dd5abb53d0>"
      ]
     },
     "execution_count": 30,
     "metadata": {},
     "output_type": "execute_result"
    },
    {
     "data": {
      "image/png": "[encoded data removed]",
      "text/plain": [
       "<Figure size 432x288 with 1 Axes>"
      ]
     },
     "metadata": {
      "needs_background": "light"
     },
     "output_type": "display_data"
    }
   ],
   "source": [
    "fig, population = plt.subplots()\n",
    "#population.plot(times, dynamics.expect[0])\n",
    "#population.plot(times, dynamics.expect[1])\n",
    "#population.plot(times, dynamics.expect[2])\n",
    "population.plot(times, dynamics.expect[3])\n",
    "#population.plot(times, dynamics.expect[4])\n",
    "#population.plot(times, dynamics.expect[5])\n",
    "population.plot(times, dynamics.expect[6])\n",
    "#population.plot(times, dynamics.expect[7])\n",
    "#population.plot(times, dynamics.expect[8])\n",
    "\n",
    "population.set_xlabel('time')\n",
    "population.set_ylabel('Occupations')\n",
    "population.legend((\"1001\", \"0110\", \"0000\"))\n",
    "#population.legend((\"n1up\", \"n1dw\", \"n2up\", \"n2dw\", \"n1up n2dw\", \"n1up n1dw\"))"
   ]
  },
  {
   "cell_type": "raw",
   "metadata": {},
   "source": [
    "<p>let's calculate fidelity with respect to a target state composed of |1001> and |0110></p>"
   ]
  },
  {
   "cell_type": "code",
   "execution_count": 31,
   "metadata": {},
   "outputs": [],
   "source": [
    "def target_function(phi):\n",
    "    psi_target = (basis_list[6] + np.exp(1j * phi) * basis_list[9]) / np.sqrt(2)\n",
    "    rho_target = psi_target * psi_target.dag()\n",
    "    dic = {'psi': psi_target, 'rho': rho_target}\n",
    "    return dic"
   ]
  },
  {
   "cell_type": "code",
   "execution_count": 32,
   "metadata": {},
   "outputs": [],
   "source": [
    "ti = []\n",
    "fidel1 = []\n",
    "fidel2 = []\n",
    "for i in range(Nt):\n",
    "    ti.append(i * deltat)\n",
    "    fidel1.append(fidelity(target_function(np.pi/2).get('rho'), rho[i]))\n",
    "    fidel2.append(fidelity(target_function(-np.pi/2).get('rho'), rho[i]))    "
   ]
  },
  {
   "cell_type": "code",
   "execution_count": 33,
   "metadata": {},
   "outputs": [
    {
     "data": {
      "text/plain": [
       "Text(0.5, 1.0, 'Fidelity function')"
      ]
     },
     "execution_count": 33,
     "metadata": {},
     "output_type": "execute_result"
    },
    {
     "data": {
      "image/png": "[encoded data removed]",
      "text/plain": [
       "<Figure size 432x288 with 1 Axes>"
      ]
     },
     "metadata": {
      "needs_background": "light"
     },
     "output_type": "display_data"
    }
   ],
   "source": [
    "plt.plot(ti, fidel1, color='g')\n",
    "plt.plot(ti, fidel2, color='r')\n",
    "plt.ylim(0,1)\n",
    "plt.xlim(0, Tmax)\n",
    "plt.legend((\"phi=pi/2\", \"phi=-pi/2\"))\n",
    "plt.title('Fidelity function')"
   ]
  },
  {
   "cell_type": "code",
   "execution_count": 34,
   "metadata": {},
   "outputs": [
    {
     "name": "stdout",
     "output_type": "stream",
     "text": [
      "0.23935389034544724\n",
      "0.2331209064204649\n",
      "0.9118309001970886\n"
     ]
    }
   ],
   "source": [
    "#calculation of covariance\n",
    "n1up_mean = np.mean(dynamics.expect[3])\n",
    "n2dw_mean = np.mean(dynamics.expect[6])\n",
    "S_X = np.std(dynamics.expect[3])\n",
    "S_Y = np.std(dynamics.expect[6])\n",
    "covariance_list = []\n",
    "n_elements = len(times)\n",
    "for i in range(n_elements):\n",
    "    delta1 = dynamics.expect[3][i] - n1up_mean\n",
    "    delta2 = dynamics.expect[6][i] - n2dw_mean\n",
    "    delta_prod = delta1 * delta2 / (n_elements - 1)\n",
    "    covariance_list.append(delta_prod)\n",
    "S_XY = sum(covariance_list)\n",
    "R_XY = S_XY / (S_X * S_Y) #sample correlation\n",
    "\n",
    "print(S_X)\n",
    "print(S_Y)\n",
    "print(R_XY)\n",
    "    "
   ]
  },
  {
   "cell_type": "raw",
   "metadata": {},
   "source": [
    "<p>At the crossing point we obtain a Bell state of the form |up down> + |down up></p>"
   ]
  },
  {
   "cell_type": "code",
   "execution_count": 35,
   "metadata": {},
   "outputs": [
    {
     "name": "stdout",
     "output_type": "stream",
     "text": [
      "f= 0.8384664152160552\n"
     ]
    },
    {
     "ename": "NameError",
     "evalue": "name 'ClassMicroStates' is not defined",
     "output_type": "error",
     "traceback": [
      "\u001b[1;31m---------------------------------------------------------------------------\u001b[0m",
      "\u001b[1;31mNameError\u001b[0m                                 Traceback (most recent call last)",
      "Input \u001b[1;32mIn [35]\u001b[0m, in \u001b[0;36m<cell line: 21>\u001b[1;34m()\u001b[0m\n\u001b[0;32m     18\u001b[0m prob_numpy \u001b[38;5;241m=\u001b[39m np\u001b[38;5;241m.\u001b[39marray(prob)\n\u001b[0;32m     19\u001b[0m plt\u001b[38;5;241m.\u001b[39mplot(tt, prob)\n\u001b[1;32m---> 21\u001b[0m teste \u001b[38;5;241m=\u001b[39m \u001b[43mClassMicroStates\u001b[49m(l\u001b[38;5;241m=\u001b[39m\u001b[38;5;241m1000\u001b[39m, gamma\u001b[38;5;241m=\u001b[39mGAMMA, tmax\u001b[38;5;241m=\u001b[39mTMAX, nt\u001b[38;5;241m=\u001b[39mNT, prob_distribution\u001b[38;5;241m=\u001b[39mprob_numpy)\n\u001b[0;32m     22\u001b[0m lista1 \u001b[38;5;241m=\u001b[39m teste\u001b[38;5;241m.\u001b[39mcreate_list()\n\u001b[0;32m     23\u001b[0m total_number_elements \u001b[38;5;241m=\u001b[39m teste\u001b[38;5;241m.\u001b[39mchecking_number_elements_s1_till_sm(lista1)\n",
      "\u001b[1;31mNameError\u001b[0m: name 'ClassMicroStates' is not defined"
     ]
    },
    {
     "data": {
      "image/png": "[encoded data removed]",
      "text/plain": [
       "<Figure size 432x288 with 1 Axes>"
      ]
     },
     "metadata": {
      "needs_background": "light"
     },
     "output_type": "display_data"
    }
   ],
   "source": [
    "#in this part I'm just refreshing my ideas about the classes below.\n",
    "\n",
    "prob = []\n",
    "TMAX = 2\n",
    "GAMMA = 0.001\n",
    "NT = 100\n",
    "tt = []\n",
    "for i in range(NT):\n",
    "    tt.append(i  * TMAX / NT)\n",
    "    prob.append(np.exp(-((i - NT/2) * TMAX / NT)**2)/np.sqrt(np.pi)/GAMMA)\n",
    "    \n",
    "y = GAMMA * np.array(prob)\n",
    "dX = TMAX / NT\n",
    "from scipy import integrate\n",
    "f = integrate.simps(y, x=None, dx=dX)\n",
    "print('f=', f)\n",
    "\n",
    "prob_numpy = np.array(prob)\n",
    "plt.plot(tt, prob)\n",
    "\n",
    "teste = ClassMicroStates(l=1000, gamma=GAMMA, tmax=TMAX, nt=NT, prob_distribution=prob_numpy)\n",
    "lista1 = teste.create_list()\n",
    "total_number_elements = teste.checking_number_elements_s1_till_sm(lista1)\n",
    "fraction_no_tunneling = teste.determining_fraction_f()\n",
    "total_proba = teste.total_probability_until_time_tmax(lista1)\n",
    "\n",
    "g = fraction_no_tunneling.get('g')\n",
    "number_elements_s_m_plus_1 = teste.create_number_elements_s_m_plus_1(g)\n",
    "\n",
    "complete_list = teste.create_complete_list_of_number_elements(lista1, number_elements_s_m_plus_1)\n",
    "\n",
    "list_with_repetitions = teste.create_list_with_repetitions(complete_list)\n",
    "\n",
    "print('lista1=', lista1, len(lista1))\n",
    "print('total_number_elements=', total_number_elements)\n",
    "print('fraction_no_tunneling=', fraction_no_tunneling)\n",
    "print('number_elements_s_m_plus_1=', number_elements_s_m_plus_1)\n",
    "print('complete list=', complete_list)\n",
    "print('list_with_repetitions=', list_with_repetitions)"
   ]
  },
  {
   "cell_type": "code",
   "execution_count": null,
   "metadata": {},
   "outputs": [],
   "source": [
    "class ClassMicroStates:\n",
    "\n",
    "    def __init__(self, l, gamma, tmax, nt, prob_distribution):\n",
    "        self.L = l\n",
    "        self.gamma = gamma\n",
    "        self.tmax = tmax\n",
    "        self.nt = nt\n",
    "        self.deltat = tmax / nt\n",
    "        self.prob = prob_distribution\n",
    "        \n",
    "    def create_list(self):\n",
    "        list_number_of_elements_set_i = self.gamma * self.prob * self.deltat * self.L\n",
    "        for i in range(len(list_number_of_elements_set_i)):\n",
    "            if list_number_of_elements_set_i[i] < 1:\n",
    "                list_number_of_elements_set_i[i] = 0\n",
    "            else:\n",
    "                list_number_of_elements_set_i[i] = int(list_number_of_elements_set_i[i])\n",
    "        return list_number_of_elements_set_i\n",
    "    \n",
    "    def checking_number_elements_s1_till_sm(self, list_to_sum):\n",
    "        s = sum(list_to_sum)\n",
    "        return s\n",
    "    \n",
    "    def total_probability_until_time_tmax(self, list_to_sum):\n",
    "        p_tot = sum(list_to_sum) / self.L\n",
    "        return p_tot\n",
    "    \n",
    "    def determining_fraction_f(self):\n",
    "        from scipy import integrate\n",
    "        y = self.gamma * self.prob\n",
    "        dx = self.tmax / self.nt\n",
    "        f = integrate.simps(y, x=None, dx=self.tmax/self.nt)\n",
    "        g = 1 - f\n",
    "        dicti = {'f': f, 'g': g}\n",
    "        return dicti\n",
    "    \n",
    "    def create_number_elements_s_m_plus_1(self, g):\n",
    "        N_S_m_plus_1 = self.L * g\n",
    "        return N_S_m_plus_1\n",
    "    \n",
    "    def create_complete_list_of_number_elements(self, lista_A, n_B):\n",
    "        final_list = list(lista_A)\n",
    "        final_list.append(n_B)\n",
    "        return final_list\n",
    "    \n",
    "    def create_list_with_repetitions(self, lista_final):\n",
    "        dicti = {}\n",
    "        for i in range(len(lista_final)):\n",
    "            if int(lista_final[i]) == 0:\n",
    "                list_in_sets = []\n",
    "            else:\n",
    "                list_in_sets = []\n",
    "                for l in range(int(lista_final[i])):\n",
    "                    list_in_sets.append(l)\n",
    "            dicti.update({i: list_in_sets})\n",
    "        list_repetitions = []\n",
    "        for i in dicti:\n",
    "            if len(dicti.get(i)) > 0:\n",
    "                for l in range(len(dicti.get(i))):\n",
    "                    list_repetitions.append(i)\n",
    "        return list_repetitions\n",
    "    \n",
    "class SimulateExperiment:\n",
    "\n",
    "    def __init__(self, repetitions=False, l=False, gamma=False, tmax=False, nt=False, prob_distribution=False):\n",
    "        self.repetitions = repetitions\n",
    "        self.L = l\n",
    "        self.gamma = gamma\n",
    "        self.tmax = tmax\n",
    "        self.nt = nt\n",
    "        self.deltat = tmax / nt\n",
    "        self.prob = prob_distribution\n",
    "        \n",
    "    def detection(self):\n",
    "        classe = ClassMicroStates(self.L, self.gamma, self.tmax, self.nt, self.prob)\n",
    "\n",
    "        lista_n_i = classe.create_list()\n",
    "        f_g = classe.determining_fraction_f()\n",
    "        n_B = classe.create_number_elements_s_m_plus_1(f_g.get('g'))\n",
    "        final_list = classe.create_complete_list_of_number_elements(lista_n_i, n_B)\n",
    "        list_with_repetition = classe.create_list_with_repetitions(final_list)\n",
    "\n",
    "        from collections import Counter\n",
    "        import random\n",
    "\n",
    "        pick_value = []\n",
    "        for i in range(self.repetitions):\n",
    "            pick_value.append(random.choice(list_with_repetition))\n",
    "        recounted = Counter(pick_value)\n",
    "        recounted.pop(self.nt)\n",
    "        return recounted\n",
    "\n",
    "    def detection_for_specific_time(self, time_index_to_measure, time_measurement_interval, number_of_observations): #i need to work on that!\n",
    "        classe = ClassMicroStates(self.L, self.gamma, self.tmax, self.nt, self.prob)\n",
    "\n",
    "        lista_n_i = classe.create_list()\n",
    "        f_g = classe.determining_fraction_f()\n",
    "        n_B = classe.create_number_elements_s_m_plus_1(f_g.get('g'))\n",
    "        final_list = classe.create_complete_list_of_number_elements(lista_n_i, n_B)\n",
    "        list_with_repetition = classe.create_list_with_repetitions(final_list)\n",
    "\n",
    "        import random\n",
    "\n",
    "        time_range = []\n",
    "        for i in range(time_measurement_interval):\n",
    "            time_range.append(time_index_to_measure+(i-time_measurement_interval/2))\n",
    "        \n",
    "        detection_result = []\n",
    "        for i in range(number_of_observations):\n",
    "            picked_value = random.choice(list_with_repetition)\n",
    "            if picked_value in time_range:\n",
    "                detection_result.append(1)\n",
    "            else:\n",
    "                detection_result.append(0)\n",
    "        return detection_result\n",
    "    \n",
    "    def count_sequence_of_detections(self, sequence_of_detections):\n",
    "        sequence_number = 0\n",
    "        soma_results = []\n",
    "        for i in sequence_of_detections:\n",
    "            soma = 0\n",
    "            for l in i:\n",
    "                soma += l\n",
    "            soma_results.append(soma)\n",
    "            sequence_number += 1\n",
    " \n",
    "        from collections import Counter\n",
    "\n",
    "        counted = Counter(soma_results)\n",
    "        return counted"
   ]
  },
  {
   "cell_type": "code",
   "execution_count": null,
   "metadata": {},
   "outputs": [],
   "source": [
    "L = 1e6\n",
    "Repetitions = 20000\n",
    "\n",
    "teste_n1up = SimulateExperiment(repetitions=Repetitions, l=L, gamma=Gamma, tmax=Tmax, nt=Nt, prob_distribution=dynamics.expect[3])\n",
    "detection_n1up = teste_n1up.detection()\n",
    "\n",
    "teste_n2dw = SimulateExperiment(repetitions=Repetitions, l=L, gamma=Gamma, tmax=Tmax, nt=Nt, prob_distribution=dynamics.expect[6])\n",
    "detection_n2dw = teste_n2dw.detection()"
   ]
  },
  {
   "cell_type": "code",
   "execution_count": 36,
   "metadata": {},
   "outputs": [
    {
     "ename": "NameError",
     "evalue": "name 'detection_n2dw' is not defined",
     "output_type": "error",
     "traceback": [
      "\u001b[1;31m---------------------------------------------------------------------------\u001b[0m",
      "\u001b[1;31mNameError\u001b[0m                                 Traceback (most recent call last)",
      "Input \u001b[1;32mIn [36]\u001b[0m, in \u001b[0;36m<cell line: 1>\u001b[1;34m()\u001b[0m\n\u001b[1;32m----> 1\u001b[0m plt\u001b[38;5;241m.\u001b[39mbar(\u001b[43mdetection_n2dw\u001b[49m\u001b[38;5;241m.\u001b[39mkeys(), detection_n2dw\u001b[38;5;241m.\u001b[39mvalues(), \u001b[38;5;241m1\u001b[39m, color\u001b[38;5;241m=\u001b[39m\u001b[38;5;124m'\u001b[39m\u001b[38;5;124mb\u001b[39m\u001b[38;5;124m'\u001b[39m)\n\u001b[0;32m      2\u001b[0m plt\u001b[38;5;241m.\u001b[39mbar(detection_n1up\u001b[38;5;241m.\u001b[39mkeys(), detection_n1up\u001b[38;5;241m.\u001b[39mvalues(), \u001b[38;5;241m1\u001b[39m, color\u001b[38;5;241m=\u001b[39m\u001b[38;5;124m'\u001b[39m\u001b[38;5;124mg\u001b[39m\u001b[38;5;124m'\u001b[39m)\n\u001b[0;32m      3\u001b[0m plt\u001b[38;5;241m.\u001b[39mlegend((\u001b[38;5;124m'\u001b[39m\u001b[38;5;124mdot 2-spin down\u001b[39m\u001b[38;5;124m'\u001b[39m, \u001b[38;5;124m'\u001b[39m\u001b[38;5;124mdot 1-spin up\u001b[39m\u001b[38;5;124m'\u001b[39m))\n",
      "\u001b[1;31mNameError\u001b[0m: name 'detection_n2dw' is not defined"
     ]
    }
   ],
   "source": [
    "plt.bar(detection_n2dw.keys(), detection_n2dw.values(), 1, color='b')\n",
    "plt.bar(detection_n1up.keys(), detection_n1up.values(), 1, color='g')\n",
    "plt.legend(('dot 2-spin down', 'dot 1-spin up'))"
   ]
  },
  {
   "cell_type": "raw",
   "metadata": {},
   "source": [
    "<p>now the idea is to count tunneling events at a specific time t. </p>"
   ]
  },
  {
   "cell_type": "code",
   "execution_count": null,
   "metadata": {},
   "outputs": [],
   "source": [
    "def sequence_detection_generator(number_of_group_of_detections, time_index_around_detections, time_index_interval, number_of_elements_of_detection_sequence):\n",
    "    x = time_index_around_detections\n",
    "    dx = time_index_interval\n",
    "    N = number_of_elements_of_detection_sequence\n",
    "    sequence_of_detections_1up = []\n",
    "    sequence_of_detections_2dw = []\n",
    "    for i in range(number_of_group_of_detections):\n",
    "        lista_detected_1up = teste_n1up.detection_for_specific_time(x, dx, N)\n",
    "        lista_detected_2dw = teste_n2dw.detection_for_specific_time(x, dx, N)\n",
    "        sequence_of_detections_1up.append(lista_detected_1up)\n",
    "        sequence_of_detections_2dw.append(lista_detected_2dw)\n",
    "    dic = {'1up': sequence_of_detections_1up, '2dw': sequence_of_detections_2dw}\n",
    "    return dic"
   ]
  },
  {
   "cell_type": "code",
   "execution_count": 112,
   "metadata": {},
   "outputs": [
    {
     "name": "stdout",
     "output_type": "stream",
     "text": [
      "Counter({1: 35, 0: 25, 2: 24, 3: 12, 4: 3, 7: 1})\n",
      "Counter({0: 34, 1: 34, 2: 16, 3: 11, 4: 3, 5: 2})\n"
     ]
    }
   ],
   "source": [
    "detection_sequence = sequence_detection_generator(100, 1000, 1000, 20)\n",
    "counting_1up = teste_n1up.count_sequence_of_detections(detection_sequence.get('1up'))\n",
    "counting_2dw = teste_n2dw.count_sequence_of_detections(detection_sequence.get('2dw'))\n",
    "print(counting_1up)\n",
    "print(counting_2dw)"
   ]
  },
  {
   "cell_type": "code",
   "execution_count": 118,
   "metadata": {},
   "outputs": [
    {
     "data": {
      "text/plain": [
       "<matplotlib.legend.Legend at 0x7f5551648610>"
      ]
     },
     "execution_count": 118,
     "metadata": {},
     "output_type": "execute_result"
    },
    {
     "data": {
      "image/png": "[encoded data removed]",
      "text/plain": [
       "<Figure size 432x288 with 1 Axes>"
      ]
     },
     "metadata": {
      "needs_background": "light"
     },
     "output_type": "display_data"
    }
   ],
   "source": [
    "plt.bar(counting_1up.keys(), counting_1up.values(), 0.7, color='g')\n",
    "plt.bar(counting_2dw.keys(), counting_2dw.values(), 0.5, color='b')\n",
    "plt.title('time index inverval: [500, 1500]')\n",
    "plt.legend(('dot 1-spin up', 'dot 2-spin down'))"
   ]
  },
  {
   "cell_type": "code",
   "execution_count": 120,
   "metadata": {},
   "outputs": [
    {
     "name": "stdout",
     "output_type": "stream",
     "text": [
      "Counter({3: 27, 4: 22, 2: 15, 1: 14, 5: 9, 6: 7, 0: 4, 7: 1, 8: 1})\n",
      "Counter({3: 26, 4: 22, 5: 20, 2: 15, 6: 6, 1: 6, 7: 2, 0: 2, 9: 1})\n"
     ]
    },
    {
     "data": {
      "text/plain": [
       "<matplotlib.legend.Legend at 0x7f5549623ed0>"
      ]
     },
     "execution_count": 120,
     "metadata": {},
     "output_type": "execute_result"
    },
    {
     "data": {
      "image/png": "[encoded data removed]",
      "text/plain": [
       "<Figure size 432x288 with 1 Axes>"
      ]
     },
     "metadata": {
      "needs_background": "light"
     },
     "output_type": "display_data"
    }
   ],
   "source": [
    "detection_sequence = sequence_detection_generator(100, 2000, 1000, 20)\n",
    "counting_1up = teste_n1up.count_sequence_of_detections(detection_sequence.get('1up'))\n",
    "counting_2dw = teste_n2dw.count_sequence_of_detections(detection_sequence.get('2dw'))\n",
    "print(counting_1up)\n",
    "print(counting_2dw)\n",
    "\n",
    "plt.bar(counting_1up.keys(), counting_1up.values(), 0.7, color='g')\n",
    "plt.bar(counting_2dw.keys(), counting_2dw.values(), 0.5, color='b')\n",
    "plt.title('time index inverval: [1500, 2500]')\n",
    "plt.legend(('dot 1-spin up', 'dot 2-spin down'))"
   ]
  },
  {
   "cell_type": "code",
   "execution_count": null,
   "metadata": {},
   "outputs": [],
   "source": []
  }
 ],
 "metadata": {
  "kernelspec": {
   "display_name": "Python 3 (ipykernel)",
   "language": "python",
   "name": "python3"
  },
  "language_info": {
   "codemirror_mode": {
    "name": "ipython",
    "version": 3
   },
   "file_extension": ".py",
   "mimetype": "text/x-python",
   "name": "python",
   "nbconvert_exporter": "python",
   "pygments_lexer": "ipython3",
   "version": "3.11.7"
  }
 },
 "nbformat": 4,
 "nbformat_minor": 4
}
